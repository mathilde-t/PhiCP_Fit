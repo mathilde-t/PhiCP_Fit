{
 "cells": [
  {
   "cell_type": "code",
   "execution_count": 161,
   "id": "03028f76-7812-4c0f-a8dd-39413c9ddf7d",
   "metadata": {},
   "outputs": [
    {
     "name": "stdout",
     "output_type": "stream",
     "text": [
      "iminuit version: 2.30.1\n"
     ]
    }
   ],
   "source": [
    "import os\n",
    "import re\n",
    "#import ROOT\n",
    "import hist\n",
    "import pickle\n",
    "import mplhep as hep\n",
    "from glob import glob\n",
    "import numpy as np\n",
    "import awkward as ak\n",
    "from tabulate import tabulate\n",
    "from IPython import embed\n",
    "from matplotlib import pyplot as plt\n",
    "from matplotlib.lines import Line2D\n",
    "# iminuit\n",
    "import iminuit\n",
    "from iminuit import Minuit\n",
    "from iminuit.cost import LeastSquares\n",
    "hep.style.use(\"CMS\")\n",
    "print(\"iminuit version:\", iminuit.__version__)\n",
    "import itertools\n",
    "from collections import defaultdict"
   ]
  },
  {
   "cell_type": "code",
   "execution_count": 298,
   "id": "b817dc3f",
   "metadata": {},
   "outputs": [],
   "source": [
    "data_storage = defaultdict(lambda: defaultdict(dict))\n",
    "\n",
    "#tags = [\"IPIP\", \"IPDP\", \"IPPV\"]\n",
    "\n",
    "tag = \"IPPV\"\n",
    "\n",
    "catdict = {\n",
    "    r\"$\\mu-\\pi$\"     : 20014002,\n",
    "    r\"$\\mu-\\rho$\"    : 20014004,\n",
    "    r\"$\\mu-a^{1}_{3\\pi}$\" : 20014008,\n",
    "}\n",
    "\n",
    "shiftdict = {\n",
    "    \"cp_even\": {\"shift\": 150, \"colour\": \"red\", \"location\": \"upper right\"},\n",
    "    \"cp_odd\": {\"shift\": 151, \"colour\": \"blue\", \"location\": \"lower left\"},\n",
    "    \"cp_maxmix\": {\"shift\": 0, \"colour\": \"black\", \"location\": \"lower right\"},\n",
    "}\n",
    "\n",
    "simpledict = {\n",
    "    r\"$\\mu-\\pi$\"     : \"mupi\",\n",
    "    r\"$\\mu-\\rho$\"    : \"murho\",\n",
    "    r\"$\\mu-a^{1}_{3\\pi}$\" : \"mua13pr\",\n",
    "}"
   ]
  },
  {
   "cell_type": "code",
   "execution_count": 299,
   "id": "3ceab686-bfaa-46db-be6c-6da4967008d5",
   "metadata": {},
   "outputs": [],
   "source": [
    "file = f\"INPUT/shifted_hist__PhiCPGen_{tag}.pickle\""
   ]
  },
  {
   "cell_type": "code",
   "execution_count": 300,
   "id": "ae178500-1350-485b-be57-6d1aebfea99f",
   "metadata": {},
   "outputs": [
    {
     "data": {
      "text/plain": [
       "Hist(\n",
       "  IntCategory([1e+07, 200000, 1e+06, 3e+06, 15000, 300000, 10000, 11000, 16000, 2.0014e+07, 6000, 2.0014e+07, 1, 4.0013e+07, 2.0014e+07, 2.0014e+07, 100000, 9000, 4.0013e+07, 12000, 4.0013e+07, 4.0013e+07, 7000, 4000, 2.0014e+07, 4.0013e+07, 8000, 3000, 2000, 4e+06, 1000, 2e+06, 5000], growth=True, name='category'),\n",
       "  IntCategory([11100], growth=True, name='process'),\n",
       "  IntCategory([0, 150, 151], growth=True, name='shift'),\n",
       "  Variable([0, 0.314159, 0.628319, 0.942478, 1.25664, 1.5708, 1.88496, 2.19911, 2.51327, 2.82743, 3.14159, 3.45575, 3.76991, 4.08407, 4.39823, 4.71239, 5.02655, 5.34071, 5.65487, 5.96903, 6.28319], name='PhiCPGen_IPPV', label='$\\\\Phi_{CP}^{IP-PV}$ (rad) [Gen level]'),\n",
       "  storage=Weight()) # Sum: WeightedSum(value=16389.6, variance=77.3296)"
      ]
     },
     "execution_count": 300,
     "metadata": {},
     "output_type": "execute_result"
    }
   ],
   "source": [
    "fileptr = open(file, 'rb')\n",
    "data = pickle.load(fileptr)\n",
    "fileptr.close()\n",
    "data"
   ]
  },
  {
   "cell_type": "code",
   "execution_count": 301,
   "id": "7cc54ef1-7474-4faa-aa1b-04b421b08b87",
   "metadata": {},
   "outputs": [
    {
     "data": {
      "text/plain": [
       "IntCategory([1e+07, 200000, 1e+06, 3e+06, 15000, 300000, 10000, 11000, 16000, 2.0014e+07, 6000, 2.0014e+07, 1, 4.0013e+07, 2.0014e+07, 2.0014e+07, 100000, 9000, 4.0013e+07, 12000, 4.0013e+07, 4.0013e+07, 7000, 4000, 2.0014e+07, 4.0013e+07, 8000, 3000, 2000, 4e+06, 1000, 2e+06, 5000], growth=True, name='category')"
      ]
     },
     "execution_count": 301,
     "metadata": {},
     "output_type": "execute_result"
    }
   ],
   "source": [
    "axes = data.axes\n",
    "category_axis  = axes['category']\n",
    "category_axis"
   ]
  },
  {
   "cell_type": "code",
   "execution_count": 302,
   "id": "e03633d8-909b-4706-8bd7-8c18412375ab",
   "metadata": {},
   "outputs": [
    {
     "data": {
      "text/plain": [
       "IntCategory([0, 150, 151], growth=True, name='shift')"
      ]
     },
     "execution_count": 302,
     "metadata": {},
     "output_type": "execute_result"
    }
   ],
   "source": [
    "shift_axis = axes['shift']\n",
    "shift_axis"
   ]
  },
  {
   "cell_type": "code",
   "execution_count": 303,
   "id": "3f80977f-edca-49e8-9b54-f1c15b8f0e0b",
   "metadata": {},
   "outputs": [],
   "source": [
    "cparray = {}\n",
    "for ccat, cval in catdict.items():\n",
    "    shiftarray = {}\n",
    "    for shift, props in shiftdict.items():\n",
    "        hypothesis = shift\n",
    "        colour = props[\"colour\"]\n",
    "        location = props[\"location\"]\n",
    "\n",
    "        if cval not in category_axis:\n",
    "            print(f\"WARNING : {cval} not in categories\")\n",
    "            continue\n",
    "\n",
    "        shift_index = shift_axis.index(props[\"shift\"])\n",
    "        values = data[category_axis.index(cval), :, shift_index, :].values()\n",
    "        # https://github.com/oponcet/CPinHToTauTau/blob/FF_dev_project/script_FF/fake_factor_derivation/src/input_processing.py#L133\n",
    "        errors = data[category_axis.index(cval), :, shift_index, :].variances() ** 0.5\n",
    "        \n",
    "        # store in data_storage\n",
    "        shiftarray[hypothesis] = {  # Using `hypothesis` instead of `shift`\n",
    "            \"values\": values,\n",
    "            \"errors\": errors,\n",
    "            \"colour\": colour,\n",
    "            \"location\": location,\n",
    "            \"asymmetry_val\": values,\n",
    "            \"asymmetry_error\": errors,\n",
    "        }\n",
    "\n",
    "    cparray[ccat] = shiftarray\n",
    "#cparray"
   ]
  },
  {
   "cell_type": "code",
   "execution_count": null,
   "id": "d09fba28",
   "metadata": {},
   "outputs": [],
   "source": []
  },
  {
   "cell_type": "code",
   "execution_count": 304,
   "id": "38e127bf-9806-489a-a4e5-00a437bcbb4c",
   "metadata": {},
   "outputs": [],
   "source": [
    "def model(x, a, b, c):\n",
    "    return a*np.cos(x+c) + b\n",
    "\n",
    "def fit(x, y, err=0.05, model=model):\n",
    "    lsq = LeastSquares(x, y, err, model)\n",
    "    m = Minuit(lsq, a=0.1, b=0.1, c=1.0)\n",
    "    #m.scan(ncall=100)\n",
    "    m.fixed = False\n",
    "    m.migrad()  # finds minimum of least_squares function\n",
    "    m.hesse()  # accurately computes uncertainties\n",
    "    return m, err, m.values[\"a\"], m.errors[\"a\"], m.values[\"b\"], m.errors[\"b\"], m.values[\"c\"]"
   ]
  },
  {
   "cell_type": "code",
   "execution_count": 305,
   "id": "9f8f6639-aa13-4a3b-aee3-8b8b37f45c14",
   "metadata": {},
   "outputs": [],
   "source": [
    "def comp_asymmetry(arr1, arr2):\n",
    "    # https://github.com/Ksavva1021/TIDAL/blob/656f992ae056b3fed0061f2b3efb49905c39834d/CP_Tools/scripts/assymetry.py#L26\n",
    "    return (1/arr1.size)*np.sum(np.abs((arr1-arr2)/(arr1+arr2)))\n",
    "\n",
    "def comp_asymmetry_error(arr1, arr2, err1, err2): #arr = array of values, err = array of errors\n",
    "    # Terms for partial derivatives\n",
    "    denom = arr1 + arr2\n",
    "    term1 = err1 * np.abs((2 * arr2) / (denom**2))\n",
    "    term2 = err2 * np.abs((2 * arr1) / (denom**2))\n",
    "    # Propagate errors\n",
    "    sigma_A = np.sqrt(np.sum(term1**2 + term2**2)) / arr1.size\n",
    "    return sigma_A"
   ]
  },
  {
   "cell_type": "code",
   "execution_count": 306,
   "id": "e21910bf-4867-4958-97af-936cf67937a0",
   "metadata": {},
   "outputs": [
    {
     "name": "stdout",
     "output_type": "stream",
     "text": [
      "cat :  $\\mu-\\pi$\n",
      "hyp :  cp_even shift_props : {'shift': 150, 'colour': 'red', 'location': 'upper right'}\n",
      "hyp :  cp_odd shift_props : {'shift': 151, 'colour': 'blue', 'location': 'lower left'}\n",
      "hyp :  cp_maxmix shift_props : {'shift': 0, 'colour': 'black', 'location': 'lower right'}\n",
      "combo_name :  cp_even_vs_cp_odd\n"
     ]
    },
    {
     "name": "stderr",
     "output_type": "stream",
     "text": [
      "<>:90: SyntaxWarning: invalid escape sequence '\\p'\n",
      "<>:90: SyntaxWarning: invalid escape sequence '\\p'\n",
      "/var/folders/93/c9bkpqp16ljgrpm8vy_h3lzr0000gn/T/ipykernel_444/2169605396.py:90: SyntaxWarning: invalid escape sequence '\\p'\n",
      "  plt.title(f\"{cat} ($A_{{even,odd}}$ = {asymmetry_val_even_odd_rounded}$\\pm${asymmetry_error_even_odd_rounded})\", fontsize=25, loc='center')\n"
     ]
    },
    {
     "ename": "KeyError",
     "evalue": "'cp_even_vs_cp_odd'",
     "output_type": "error",
     "traceback": [
      "\u001b[0;31m---------------------------------------------------------------------------\u001b[0m",
      "\u001b[0;31mKeyError\u001b[0m                                  Traceback (most recent call last)",
      "Cell \u001b[0;32mIn[306], line 77\u001b[0m\n\u001b[1;32m     74\u001b[0m     \u001b[38;5;28mprint\u001b[39m(\u001b[38;5;124m\"\u001b[39m\u001b[38;5;124mcombo_name : \u001b[39m\u001b[38;5;124m\"\u001b[39m, combo_name)\n\u001b[1;32m     76\u001b[0m     \u001b[38;5;66;03m# Store asymmetry result for this category and tag\u001b[39;00m\n\u001b[0;32m---> 77\u001b[0m     \u001b[43mdata_storage\u001b[49m\u001b[43m[\u001b[49m\u001b[43mcat\u001b[49m\u001b[43m]\u001b[49m\u001b[43m[\u001b[49m\u001b[38;5;124;43m\"\u001b[39;49m\u001b[38;5;124;43mtags\u001b[39;49m\u001b[38;5;124;43m\"\u001b[39;49m\u001b[43m]\u001b[49m\u001b[43m[\u001b[49m\u001b[43mcombo_name\u001b[49m\u001b[43m]\u001b[49m[\u001b[38;5;124m\"\u001b[39m\u001b[38;5;124masymmetry_val\u001b[39m\u001b[38;5;124m\"\u001b[39m] \u001b[38;5;241m=\u001b[39m asymmetry\n\u001b[1;32m     78\u001b[0m     data_storage[cat][\u001b[38;5;124m\"\u001b[39m\u001b[38;5;124mtags\u001b[39m\u001b[38;5;124m\"\u001b[39m][combo_name][\u001b[38;5;124m\"\u001b[39m\u001b[38;5;124masymmetry_error\u001b[39m\u001b[38;5;124m\"\u001b[39m] \u001b[38;5;241m=\u001b[39m asymmetry_error\n\u001b[1;32m     82\u001b[0m \u001b[38;5;66;03m# Save the final plot\u001b[39;00m\n",
      "\u001b[0;31mKeyError\u001b[0m: 'cp_even_vs_cp_odd'"
     ]
    },
    {
     "data": {
      "image/png": "[encoded data removed]",
      "text/plain": [
       "<Figure size 890x660 with 1 Axes>"
      ]
     },
     "metadata": {},
     "output_type": "display_data"
    }
   ],
   "source": [
    "x = np.linspace(0., 2*np.pi, 20)\n",
    "\n",
    "for cat, val in cparray.items():  # Loop over categories (DMs)\n",
    "    print(\"cat : \", cat)\n",
    "    if len(val) == 0:\n",
    "        print(f\"WARNING : {cat} has an empty dict\")\n",
    "        continue\n",
    "\n",
    "    plt.figure(figsize=(8.9, 6.6))\n",
    "    hep.cms.text(\"Simulation\", loc=1)\n",
    "\n",
    "    # Initialize category in data_storage if not already there\n",
    "    if cat not in data_storage:\n",
    "        data_storage[cat] = {\n",
    "            \"colour\": \"yellow\",  # Example colour (you can change this based on your input)\n",
    "            \"location\": \"top_left\",  # Example location\n",
    "            \"tags\": {},  # Initialize the tags key to store per-category tags\n",
    "        }\n",
    "\n",
    "    for hyp, shift_props in shiftdict.items():  # Loop over hypotheses\n",
    "        shift, colour, location = shift_props[\"shift\"], shift_props[\"colour\"], shift_props[\"location\"]\n",
    "        print(\"hyp : \", hyp, \"shift_props :\", shift_props)\n",
    "\n",
    "        hypothesis_zip = val[hyp]  # gives per hypothesis: {'values': array, 'errors': array, '...': 'black', 'location': '...'}\n",
    "        hypothesis_fit_vals, hypothesis_fit_errs = np.ravel(hypothesis_zip[\"values\"]), np.ravel(hypothesis_zip[\"errors\"])\n",
    "\n",
    "        # Fit the Hypothesis\n",
    "        m, err, a, sigma_a, b, sigma_b, c = fit(x, hypothesis_fit_vals, hypothesis_fit_errs)\n",
    "        \n",
    "        # Store detailed fit results for each hypothesis within category and tag\n",
    "        if \"tags\" not in data_storage[cat]:  \n",
    "            data_storage[cat][\"tags\"] = {}  # Ensure \"tags\" exists\n",
    "        \n",
    "        if tag not in data_storage[cat][\"tags\"]:  \n",
    "            data_storage[cat][\"tags\"][tag] = {}  # Initialisiere tag innerhalb von tags\n",
    "        \n",
    "        data_storage[cat][\"tags\"][tag][hyp] = {  # Directly use hypothesis name\n",
    "            \"values\": hypothesis_fit_vals.tolist(),\n",
    "            \"errors\": hypothesis_fit_errs.tolist(),\n",
    "            \"colour\": colour,\n",
    "            \"location\": location,\n",
    "            \"m\": m,\n",
    "            \"err\": err,\n",
    "        }\n",
    "\n",
    "\n",
    "        # Plot the results\n",
    "        plt.errorbar(x, hypothesis_fit_vals, hypothesis_fit_errs, fmt=\"o\", color=colour)\n",
    "        fit_curve = model(x, *m.values)\n",
    "        plt.plot(x, fit_curve, color=colour)\n",
    "        fit_info = [\n",
    "            f\"$\\\\chi^2$/$n_\\\\mathrm{{dof}}$ = {m.fval:.1f} / {m.ndof:.0f} = {m.fmin.reduced_chi2:.1f}\",\n",
    "        ]\n",
    "        legend_handle = Line2D([0], [0], color=colour, label=f\"CP {hyp[3:]}\")\n",
    "        legend = plt.legend(handles=[legend_handle], title=\"\\n\".join(fit_info), frameon=False, loc=location, fontsize=20, title_fontsize=15)\n",
    "        plt.gca().add_artist(legend)\n",
    "\n",
    "        fit_y_min = np.min(fit_curve)\n",
    "        fit_y_max = np.max(fit_curve)\n",
    "        y_min = fit_y_min - 0.3 * fit_y_min\n",
    "        y_max = fit_y_max + 0.2 * fit_y_max\n",
    "        plt.ylim(y_min, y_max)\n",
    "\n",
    "    for category1, category2 in itertools.combinations(shiftdict.keys(), 2):  # Loop over pairs of hypotheses (asymmetry calculations)\n",
    "        hypothesis1 = np.ravel(val[category1][\"values\"])\n",
    "        hypothesis2 = np.ravel(val[category2][\"values\"])\n",
    "        error1 = np.ravel(val[category1][\"errors\"])\n",
    "        error2 = np.ravel(val[category2][\"errors\"])\n",
    "\n",
    "        asymmetry = comp_asymmetry(hypothesis1, hypothesis2)\n",
    "        asymmetry_error = comp_asymmetry_error(hypothesis1, hypothesis2, error1, error2)\n",
    "\n",
    "        combo_name = f\"{category1}_vs_{category2}\"\n",
    "        print(\"combo_name : \", combo_name)\n",
    "\n",
    "        # Store asymmetry result for this category and tag\n",
    "        data_storage[cat][\"tags\"][combo_name][\"asymmetry_val\"] = asymmetry\n",
    "        data_storage[cat][\"tags\"][combo_name][\"asymmetry_error\"] = asymmetry_error\n",
    "\n",
    "\n",
    "\n",
    "    # Save the final plot\n",
    "    asymmetry_val_even_odd = data_storage[cat][\"tags\"][\"cp_even_vs_cp_odd\"][\"asymmetry_val\"]\n",
    "    asymmetry_error_even_odd = data_storage[cat][\"tags\"][\"cp_even_vs_cp_odd\"][\"asymmetry_error\"]\n",
    "    asymmetry_val_even_odd_rounded = round(asymmetry_val_even_odd, 3)\n",
    "    asymmetry_error_even_odd_rounded = round(asymmetry_error_even_odd, 3)\n",
    "\n",
    "    plt.xlabel(r\"$\\Phi_{CP}$\" + f\"({tag})\")\n",
    "    plt.ylabel(\"a.u\")\n",
    "    plt.title(f\"{cat} ($A_{{even,odd}}$ = {asymmetry_val_even_odd_rounded}$\\pm${asymmetry_error_even_odd_rounded})\", fontsize=25, loc='center')\n",
    "    plt.tight_layout()\n",
    "    plt.savefig(f\"OUTPUT/{tag}_{cat}.pdf\", dpi=300)\n",
    "    plt.show()\n"
   ]
  },
  {
   "cell_type": "code",
   "execution_count": 307,
   "id": "02efda1a",
   "metadata": {},
   "outputs": [
    {
     "data": {
      "text/plain": [
       "dict_keys(['$\\\\mu-\\\\pi$'])"
      ]
     },
     "execution_count": 307,
     "metadata": {},
     "output_type": "execute_result"
    }
   ],
   "source": [
    "data_storage.keys()"
   ]
  },
  {
   "cell_type": "code",
   "execution_count": 308,
   "id": "4ea8d2a8",
   "metadata": {},
   "outputs": [
    {
     "data": {
      "text/plain": [
       "dict_keys(['colour', 'location', 'tags'])"
      ]
     },
     "execution_count": 308,
     "metadata": {},
     "output_type": "execute_result"
    }
   ],
   "source": [
    "data_storage['$\\\\mu-\\\\pi$'].keys()"
   ]
  },
  {
   "cell_type": "code",
   "execution_count": 321,
   "id": "9c173a07-84b1-403c-9a5f-42bef10f68c8",
   "metadata": {},
   "outputs": [
    {
     "name": "stdout",
     "output_type": "stream",
     "text": [
      "data_storage.keys() \t\t\t\t:  dict_keys(['$\\\\mu-\\\\pi$'])\n",
      "\n",
      "\n",
      "data_storage['$\\mu-\\pi$'].keys() \t\t:  dict_keys(['colour', 'location', 'tags'])\n",
      "======================================================================================================\n",
      "data_storage['$\\mu-\\pi$']['colour'].keys() \t:  black\n",
      "data_storage['$\\mu-\\pi$']['location'].keys() \t:  lower right\n",
      "data_storage['$\\mu-\\pi$']['tags'].keys() \t:  ['IPIP', 'IPDP', 'IPPV']\n",
      "======================================================================================================\n"
     ]
    },
    {
     "ename": "KeyError",
     "evalue": "'IPIP'",
     "output_type": "error",
     "traceback": [
      "\u001b[0;31m---------------------------------------------------------------------------\u001b[0m",
      "\u001b[0;31mKeyError\u001b[0m                                  Traceback (most recent call last)",
      "Cell \u001b[0;32mIn[321], line 9\u001b[0m\n\u001b[1;32m      7\u001b[0m \u001b[38;5;28mprint\u001b[39m(\u001b[38;5;124m\"\u001b[39m\u001b[38;5;124mdata_storage[\u001b[39m\u001b[38;5;124m'\u001b[39m\u001b[38;5;124m$\u001b[39m\u001b[38;5;130;01m\\\\\u001b[39;00m\u001b[38;5;124mmu-\u001b[39m\u001b[38;5;130;01m\\\\\u001b[39;00m\u001b[38;5;124mpi$\u001b[39m\u001b[38;5;124m'\u001b[39m\u001b[38;5;124m][\u001b[39m\u001b[38;5;124m'\u001b[39m\u001b[38;5;124mtags\u001b[39m\u001b[38;5;124m'\u001b[39m\u001b[38;5;124m].keys() \u001b[39m\u001b[38;5;130;01m\\t\u001b[39;00m\u001b[38;5;124m: \u001b[39m\u001b[38;5;124m\"\u001b[39m, tags)\n\u001b[1;32m      8\u001b[0m \u001b[38;5;28mprint\u001b[39m(\u001b[38;5;124m\"\u001b[39m\u001b[38;5;124m======================================================================================================\u001b[39m\u001b[38;5;124m\"\u001b[39m)\n\u001b[0;32m----> 9\u001b[0m \u001b[38;5;28mprint\u001b[39m(\u001b[38;5;124m\"\u001b[39m\u001b[38;5;124mdata_storage[\u001b[39m\u001b[38;5;124m'\u001b[39m\u001b[38;5;124m$\u001b[39m\u001b[38;5;130;01m\\\\\u001b[39;00m\u001b[38;5;124mmu-\u001b[39m\u001b[38;5;130;01m\\\\\u001b[39;00m\u001b[38;5;124mpi$\u001b[39m\u001b[38;5;124m'\u001b[39m\u001b[38;5;124m][\u001b[39m\u001b[38;5;124m'\u001b[39m\u001b[38;5;124mtags\u001b[39m\u001b[38;5;124m'\u001b[39m\u001b[38;5;124m][\u001b[39m\u001b[38;5;124m'\u001b[39m\u001b[38;5;124mIPIP\u001b[39m\u001b[38;5;124m'\u001b[39m\u001b[38;5;124m].keys() \u001b[39m\u001b[38;5;130;01m\\t\u001b[39;00m\u001b[38;5;124m: \u001b[39m\u001b[38;5;124m\"\u001b[39m, \u001b[43mdata_storage\u001b[49m\u001b[43m[\u001b[49m\u001b[38;5;124;43m'\u001b[39;49m\u001b[38;5;124;43m$\u001b[39;49m\u001b[38;5;130;43;01m\\\\\u001b[39;49;00m\u001b[38;5;124;43mmu-\u001b[39;49m\u001b[38;5;130;43;01m\\\\\u001b[39;49;00m\u001b[38;5;124;43mpi$\u001b[39;49m\u001b[38;5;124;43m'\u001b[39;49m\u001b[43m]\u001b[49m\u001b[43m[\u001b[49m\u001b[38;5;124;43m'\u001b[39;49m\u001b[38;5;124;43mtags\u001b[39;49m\u001b[38;5;124;43m'\u001b[39;49m\u001b[43m]\u001b[49m\u001b[43m[\u001b[49m\u001b[38;5;124;43m'\u001b[39;49m\u001b[38;5;124;43mIPIP\u001b[39;49m\u001b[38;5;124;43m'\u001b[39;49m\u001b[43m]\u001b[49m)\n\u001b[1;32m     10\u001b[0m \u001b[38;5;28mprint\u001b[39m(\u001b[38;5;124m\"\u001b[39m\u001b[38;5;124mdata_storage[\u001b[39m\u001b[38;5;124m'\u001b[39m\u001b[38;5;124m$\u001b[39m\u001b[38;5;130;01m\\\\\u001b[39;00m\u001b[38;5;124mmu-\u001b[39m\u001b[38;5;130;01m\\\\\u001b[39;00m\u001b[38;5;124mpi$\u001b[39m\u001b[38;5;124m'\u001b[39m\u001b[38;5;124m][\u001b[39m\u001b[38;5;124m'\u001b[39m\u001b[38;5;124mtags\u001b[39m\u001b[38;5;124m'\u001b[39m\u001b[38;5;124m][\u001b[39m\u001b[38;5;124m'\u001b[39m\u001b[38;5;124mIPDP\u001b[39m\u001b[38;5;124m'\u001b[39m\u001b[38;5;124m].keys() \u001b[39m\u001b[38;5;130;01m\\t\u001b[39;00m\u001b[38;5;124m: \u001b[39m\u001b[38;5;124m\"\u001b[39m, data_storage[\u001b[38;5;124m'\u001b[39m\u001b[38;5;124m$\u001b[39m\u001b[38;5;130;01m\\\\\u001b[39;00m\u001b[38;5;124mmu-\u001b[39m\u001b[38;5;130;01m\\\\\u001b[39;00m\u001b[38;5;124mpi$\u001b[39m\u001b[38;5;124m'\u001b[39m][\u001b[38;5;124m'\u001b[39m\u001b[38;5;124mtags\u001b[39m\u001b[38;5;124m'\u001b[39m][\u001b[38;5;124m'\u001b[39m\u001b[38;5;124mIPDP\u001b[39m\u001b[38;5;124m'\u001b[39m])\n\u001b[1;32m     11\u001b[0m \u001b[38;5;28mprint\u001b[39m(\u001b[38;5;124m\"\u001b[39m\u001b[38;5;124mdata_storage[\u001b[39m\u001b[38;5;124m'\u001b[39m\u001b[38;5;124m$\u001b[39m\u001b[38;5;130;01m\\\\\u001b[39;00m\u001b[38;5;124mmu-\u001b[39m\u001b[38;5;130;01m\\\\\u001b[39;00m\u001b[38;5;124mpi$\u001b[39m\u001b[38;5;124m'\u001b[39m\u001b[38;5;124m][\u001b[39m\u001b[38;5;124m'\u001b[39m\u001b[38;5;124mtags\u001b[39m\u001b[38;5;124m'\u001b[39m\u001b[38;5;124m][\u001b[39m\u001b[38;5;124m'\u001b[39m\u001b[38;5;124mIPPV\u001b[39m\u001b[38;5;124m'\u001b[39m\u001b[38;5;124m].keys() \u001b[39m\u001b[38;5;130;01m\\t\u001b[39;00m\u001b[38;5;124m: \u001b[39m\u001b[38;5;124m\"\u001b[39m, data_storage[\u001b[38;5;124m'\u001b[39m\u001b[38;5;124m$\u001b[39m\u001b[38;5;130;01m\\\\\u001b[39;00m\u001b[38;5;124mmu-\u001b[39m\u001b[38;5;130;01m\\\\\u001b[39;00m\u001b[38;5;124mpi$\u001b[39m\u001b[38;5;124m'\u001b[39m][\u001b[38;5;124m'\u001b[39m\u001b[38;5;124mtags\u001b[39m\u001b[38;5;124m'\u001b[39m][\u001b[38;5;124m'\u001b[39m\u001b[38;5;124mIPPV\u001b[39m\u001b[38;5;124m'\u001b[39m])\n",
      "\u001b[0;31mKeyError\u001b[0m: 'IPIP'"
     ]
    }
   ],
   "source": [
    "print(\"data_storage.keys() \\t\\t\\t\\t: \", data_storage.keys())\n",
    "print(\"\\n\")\n",
    "print(\"data_storage['$\\\\mu-\\\\pi$'].keys() \\t\\t: \", data_storage['$\\\\mu-\\\\pi$'].keys())\n",
    "print(\"======================================================================================================\")\n",
    "print(\"data_storage['$\\\\mu-\\\\pi$']['colour'].keys() \\t: \", colour)\n",
    "print(\"data_storage['$\\\\mu-\\\\pi$']['location'].keys() \\t: \", location)\n",
    "print(\"data_storage['$\\\\mu-\\\\pi$']['tags'].keys() \\t: \", tags)\n",
    "print(\"======================================================================================================\")\n",
    "#print(\"data_storage['$\\\\mu-\\\\pi$']['tags']['IPIP'].keys() \\t: \", data_storage['$\\\\mu-\\\\pi$']['tags']['IPIP'])\n",
    "#print(\"data_storage['$\\\\mu-\\\\pi$']['tags']['IPDP'].keys() \\t: \", data_storage['$\\\\mu-\\\\pi$']['tags']['IPDP'])\n",
    "#print(\"data_storage['$\\\\mu-\\\\pi$']['tags']['IPPV'].keys() \\t: \", data_storage['$\\\\mu-\\\\pi$']['tags']['IPPV'])"
   ]
  },
  {
   "cell_type": "code",
   "execution_count": 241,
   "id": "96b0b84f-b34e-413e-86aa-600b9ec691d5",
   "metadata": {},
   "outputs": [
    {
     "data": {
      "text/plain": [
       "{'$\\\\mu-\\\\rho$': {'m_even': ┌─────────────────────────────────────────────────────────────────────────┐\n",
       "│                                Migrad                                   │\n",
       "├──────────────────────────────────┬──────────────────────────────────────┤\n",
       "│ FCN = 16.65 (χ²/ndof = 1.0)      │              Nfcn = 98               │\n",
       "│ EDM = 2.82e-09 (Goal: 0.0002)    │                                      │\n",
       "├──────────────────────────────────┼──────────────────────────────────────┤\n",
       "│          Valid Minimum           │   Below EDM threshold (goal x 10)    │\n",
       "├──────────────────────────────────┼──────────────────────────────────────┤\n",
       "│      No parameters at limit      │           Below call limit           │\n",
       "├──────────────────────────────────┼──────────────────────────────────────┤\n",
       "│             Hesse ok             │         Covariance accurate          │\n",
       "└──────────────────────────────────┴──────────────────────────────────────┘\n",
       "┌───┬──────┬───────────┬───────────┬────────────┬────────────┬─────────┬─────────┬───────┐\n",
       "│   │ Name │   Value   │ Hesse Err │ Minos Err- │ Minos Err+ │ Limit-  │ Limit+  │ Fixed │\n",
       "├───┼──────┼───────────┼───────────┼────────────┼────────────┼─────────┼─────────┼───────┤\n",
       "│ 0 │ a    │   1.47    │   0.07    │            │            │         │         │       │\n",
       "│ 1 │ b    │   9.73    │   0.05    │            │            │         │         │       │\n",
       "│ 2 │ c    │   -0.12   │   0.05    │            │            │         │         │       │\n",
       "└───┴──────┴───────────┴───────────┴────────────┴────────────┴─────────┴─────────┴───────┘\n",
       "┌───┬─────────────────────────┐\n",
       "│   │       a       b       c │\n",
       "├───┼─────────────────────────┤\n",
       "│ a │ 0.00455  0.0003 -0.0000 │\n",
       "│ b │  0.0003 0.00237 -0.0000 │\n",
       "│ c │ -0.0000 -0.0000 0.00226 │\n",
       "└───┴─────────────────────────┘,\n",
       "  'm_odd': ┌─────────────────────────────────────────────────────────────────────────┐\n",
       "│                                Migrad                                   │\n",
       "├──────────────────────────────────┬──────────────────────────────────────┤\n",
       "│ FCN = 16.26 (χ²/ndof = 1.0)      │              Nfcn = 100              │\n",
       "│ EDM = 4.94e-06 (Goal: 0.0002)    │                                      │\n",
       "├──────────────────────────────────┼──────────────────────────────────────┤\n",
       "│          Valid Minimum           │   Below EDM threshold (goal x 10)    │\n",
       "├──────────────────────────────────┼──────────────────────────────────────┤\n",
       "│      No parameters at limit      │           Below call limit           │\n",
       "├──────────────────────────────────┼──────────────────────────────────────┤\n",
       "│             Hesse ok             │         Covariance accurate          │\n",
       "└──────────────────────────────────┴──────────────────────────────────────┘\n",
       "┌───┬──────┬───────────┬───────────┬────────────┬────────────┬─────────┬─────────┬───────┐\n",
       "│   │ Name │   Value   │ Hesse Err │ Minos Err- │ Minos Err+ │ Limit-  │ Limit+  │ Fixed │\n",
       "├───┼──────┼───────────┼───────────┼────────────┼────────────┼─────────┼─────────┼───────┤\n",
       "│ 0 │ a    │   -1.41   │   0.07    │            │            │         │         │       │\n",
       "│ 1 │ b    │   9.86    │   0.05    │            │            │         │         │       │\n",
       "│ 2 │ c    │   -6.23   │   0.05    │            │            │         │         │       │\n",
       "└───┴──────┴───────────┴───────────┴────────────┴────────────┴─────────┴─────────┴───────┘\n",
       "┌───┬─────────────────────────┐\n",
       "│   │       a       b       c │\n",
       "├───┼─────────────────────────┤\n",
       "│ a │ 0.00478 -0.0008 -0.0000 │\n",
       "│ b │ -0.0008 0.00252  0.0000 │\n",
       "│ c │ -0.0000  0.0000 0.00255 │\n",
       "└───┴─────────────────────────┘,\n",
       "  'm_maxmix': ┌─────────────────────────────────────────────────────────────────────────┐\n",
       "│                                Migrad                                   │\n",
       "├──────────────────────────────────┬──────────────────────────────────────┤\n",
       "│ FCN = 17.6 (χ²/ndof = 1.0)       │              Nfcn = 133              │\n",
       "│ EDM = 1.88e-09 (Goal: 0.0002)    │                                      │\n",
       "├──────────────────────────────────┼──────────────────────────────────────┤\n",
       "│          Valid Minimum           │   Below EDM threshold (goal x 10)    │\n",
       "├──────────────────────────────────┼──────────────────────────────────────┤\n",
       "│      No parameters at limit      │           Below call limit           │\n",
       "├──────────────────────────────────┼──────────────────────────────────────┤\n",
       "│             Hesse ok             │         Covariance accurate          │\n",
       "└──────────────────────────────────┴──────────────────────────────────────┘\n",
       "┌───┬──────┬───────────┬───────────┬────────────┬────────────┬─────────┬─────────┬───────┐\n",
       "│   │ Name │   Value   │ Hesse Err │ Minos Err- │ Minos Err+ │ Limit-  │ Limit+  │ Fixed │\n",
       "├───┼──────┼───────────┼───────────┼────────────┼────────────┼─────────┼─────────┼───────┤\n",
       "│ 0 │ a    │   1.37    │   0.07    │            │            │         │         │       │\n",
       "│ 1 │ b    │   9.77    │   0.05    │            │            │         │         │       │\n",
       "│ 2 │ c    │  -23.56   │   0.05    │            │            │         │         │       │\n",
       "└───┴──────┴───────────┴───────────┴────────────┴────────────┴─────────┴─────────┴───────┘\n",
       "┌───┬─────────────────────────┐\n",
       "│   │       a       b       c │\n",
       "├───┼─────────────────────────┤\n",
       "│ a │ 0.00502  0.0005  0.0000 │\n",
       "│ b │  0.0005 0.00243  0.0002 │\n",
       "│ c │  0.0000  0.0002 0.00243 │\n",
       "└───┴─────────────────────────┘},\n",
       " '$\\\\mu-a^{1}_{3\\\\pi}$': {'m_even': ┌─────────────────────────────────────────────────────────────────────────┐\n",
       "│                                Migrad                                   │\n",
       "├──────────────────────────────────┬──────────────────────────────────────┤\n",
       "│ FCN = 16.91 (χ²/ndof = 1.0)      │              Nfcn = 78               │\n",
       "│ EDM = 5.01e-07 (Goal: 0.0002)    │                                      │\n",
       "├──────────────────────────────────┼──────────────────────────────────────┤\n",
       "│          Valid Minimum           │   Below EDM threshold (goal x 10)    │\n",
       "├──────────────────────────────────┼──────────────────────────────────────┤\n",
       "│      No parameters at limit      │           Below call limit           │\n",
       "├──────────────────────────────────┼──────────────────────────────────────┤\n",
       "│             Hesse ok             │         Covariance accurate          │\n",
       "└──────────────────────────────────┴──────────────────────────────────────┘\n",
       "┌───┬──────┬───────────┬───────────┬────────────┬────────────┬─────────┬─────────┬───────┐\n",
       "│   │ Name │   Value   │ Hesse Err │ Minos Err- │ Minos Err+ │ Limit-  │ Limit+  │ Fixed │\n",
       "├───┼──────┼───────────┼───────────┼────────────┼────────────┼─────────┼─────────┼───────┤\n",
       "│ 0 │ a    │   0.34    │   0.05    │            │            │         │         │       │\n",
       "│ 1 │ b    │   4.763   │   0.033   │            │            │         │         │       │\n",
       "│ 2 │ c    │   -0.03   │   0.14    │            │            │         │         │       │\n",
       "└───┴──────┴───────────┴───────────┴────────────┴────────────┴─────────┴─────────┴───────┘\n",
       "┌───┬─────────────────────────┐\n",
       "│   │       a       b       c │\n",
       "├───┼─────────────────────────┤\n",
       "│ a │ 0.00206  0.0000  0.0000 │\n",
       "│ b │  0.0000 0.00109 -0.0001 │\n",
       "│ c │  0.0000 -0.0001  0.0198 │\n",
       "└───┴─────────────────────────┘,\n",
       "  'm_odd': ┌─────────────────────────────────────────────────────────────────────────┐\n",
       "│                                Migrad                                   │\n",
       "├──────────────────────────────────┬──────────────────────────────────────┤\n",
       "│ FCN = 22.82 (χ²/ndof = 1.3)      │              Nfcn = 93               │\n",
       "│ EDM = 5.07e-08 (Goal: 0.0002)    │                                      │\n",
       "├──────────────────────────────────┼──────────────────────────────────────┤\n",
       "│          Valid Minimum           │   Below EDM threshold (goal x 10)    │\n",
       "├──────────────────────────────────┼──────────────────────────────────────┤\n",
       "│      No parameters at limit      │           Below call limit           │\n",
       "├──────────────────────────────────┼──────────────────────────────────────┤\n",
       "│             Hesse ok             │         Covariance accurate          │\n",
       "└──────────────────────────────────┴──────────────────────────────────────┘\n",
       "┌───┬──────┬───────────┬───────────┬────────────┬────────────┬─────────┬─────────┬───────┐\n",
       "│   │ Name │   Value   │ Hesse Err │ Minos Err- │ Minos Err+ │ Limit-  │ Limit+  │ Fixed │\n",
       "├───┼──────┼───────────┼───────────┼────────────┼────────────┼─────────┼─────────┼───────┤\n",
       "│ 0 │ a    │   -0.42   │   0.05    │            │            │         │         │       │\n",
       "│ 1 │ b    │   4.815   │   0.034   │            │            │         │         │       │\n",
       "│ 2 │ c    │   -0.04   │   0.12    │            │            │         │         │       │\n",
       "└───┴──────┴───────────┴───────────┴────────────┴────────────┴─────────┴─────────┴───────┘\n",
       "┌───┬─────────────────────────┐\n",
       "│   │       a       b       c │\n",
       "├───┼─────────────────────────┤\n",
       "│ a │ 0.00213 -0.0003 -0.0000 │\n",
       "│ b │ -0.0003 0.00113  0.0001 │\n",
       "│ c │ -0.0000  0.0001  0.0131 │\n",
       "└───┴─────────────────────────┘,\n",
       "  'm_maxmix': ┌─────────────────────────────────────────────────────────────────────────┐\n",
       "│                                Migrad                                   │\n",
       "├──────────────────────────────────┬──────────────────────────────────────┤\n",
       "│ FCN = 21.31 (χ²/ndof = 1.3)      │              Nfcn = 103              │\n",
       "│ EDM = 4.06e-08 (Goal: 0.0002)    │                                      │\n",
       "├──────────────────────────────────┼──────────────────────────────────────┤\n",
       "│          Valid Minimum           │   Below EDM threshold (goal x 10)    │\n",
       "├──────────────────────────────────┼──────────────────────────────────────┤\n",
       "│      No parameters at limit      │           Below call limit           │\n",
       "├──────────────────────────────────┼──────────────────────────────────────┤\n",
       "│             Hesse ok             │         Covariance accurate          │\n",
       "└──────────────────────────────────┴──────────────────────────────────────┘\n",
       "┌───┬──────┬───────────┬───────────┬────────────┬────────────┬─────────┬─────────┬───────┐\n",
       "│   │ Name │   Value   │ Hesse Err │ Minos Err- │ Minos Err+ │ Limit-  │ Limit+  │ Fixed │\n",
       "├───┼──────┼───────────┼───────────┼────────────┼────────────┼─────────┼─────────┼───────┤\n",
       "│ 0 │ a    │   -0.42   │   0.05    │            │            │         │         │       │\n",
       "│ 1 │ b    │   4.770   │   0.033   │            │            │         │         │       │\n",
       "│ 2 │ c    │   -1.42   │   0.11    │            │            │         │         │       │\n",
       "└───┴──────┴───────────┴───────────┴────────────┴────────────┴─────────┴─────────┴───────┘\n",
       "┌───┬─────────────────────────┐\n",
       "│   │       a       b       c │\n",
       "├───┼─────────────────────────┤\n",
       "│ a │ 0.00231 -0.0001  0.0001 │\n",
       "│ b │ -0.0001  0.0011  0.0003 │\n",
       "│ c │  0.0001  0.0003  0.0117 │\n",
       "└───┴─────────────────────────┘}}"
      ]
     },
     "execution_count": 241,
     "metadata": {},
     "output_type": "execute_result"
    }
   ],
   "source": []
  },
  {
   "cell_type": "code",
   "execution_count": 228,
   "id": "64f1770a-ded9-406d-8076-795a4113fbe7",
   "metadata": {},
   "outputs": [
    {
     "ename": "NameError",
     "evalue": "name 'm_even' is not defined",
     "output_type": "error",
     "traceback": [
      "\u001b[0;31m---------------------------------------------------------------------------\u001b[0m",
      "\u001b[0;31mNameError\u001b[0m                                 Traceback (most recent call last)",
      "Cell \u001b[0;32mIn[228], line 1\u001b[0m\n\u001b[0;32m----> 1\u001b[0m \u001b[43mm_even\u001b[49m\n",
      "\u001b[0;31mNameError\u001b[0m: name 'm_even' is not defined"
     ]
    }
   ],
   "source": []
  },
  {
   "cell_type": "code",
   "execution_count": 213,
   "id": "f8df44ac-be9d-4154-8697-dbee07d6d562",
   "metadata": {},
   "outputs": [
    {
     "ename": "NameError",
     "evalue": "name 'm_even' is not defined",
     "output_type": "error",
     "traceback": [
      "\u001b[0;31m---------------------------------------------------------------------------\u001b[0m",
      "\u001b[0;31mNameError\u001b[0m                                 Traceback (most recent call last)",
      "Cell \u001b[0;32mIn[213], line 1\u001b[0m\n\u001b[0;32m----> 1\u001b[0m \u001b[43mm_even\u001b[49m\u001b[38;5;241m.\u001b[39mvalues\n",
      "\u001b[0;31mNameError\u001b[0m: name 'm_even' is not defined"
     ]
    }
   ],
   "source": []
  },
  {
   "cell_type": "code",
   "execution_count": 214,
   "id": "08e521ba-ec29-4ccc-a2cf-aaa3cefa32e9",
   "metadata": {},
   "outputs": [
    {
     "ename": "NameError",
     "evalue": "name 'm_maxmix' is not defined",
     "output_type": "error",
     "traceback": [
      "\u001b[0;31m---------------------------------------------------------------------------\u001b[0m",
      "\u001b[0;31mNameError\u001b[0m                                 Traceback (most recent call last)",
      "Cell \u001b[0;32mIn[214], line 1\u001b[0m\n\u001b[0;32m----> 1\u001b[0m \u001b[43mm_maxmix\u001b[49m\u001b[38;5;241m.\u001b[39mvalues\n",
      "\u001b[0;31mNameError\u001b[0m: name 'm_maxmix' is not defined"
     ]
    }
   ],
   "source": []
  },
  {
   "cell_type": "code",
   "execution_count": 19,
   "id": "41f197a8-828b-4b9f-b7d0-b61fa9e9c98c",
   "metadata": {},
   "outputs": [
    {
     "ename": "NameError",
     "evalue": "name 'm_odd' is not defined",
     "output_type": "error",
     "traceback": [
      "\u001b[0;31m---------------------------------------------------------------------------\u001b[0m",
      "\u001b[0;31mNameError\u001b[0m                                 Traceback (most recent call last)",
      "Cell \u001b[0;32mIn[19], line 1\u001b[0m\n\u001b[0;32m----> 1\u001b[0m \u001b[43mm_odd\u001b[49m\u001b[38;5;241m.\u001b[39mvalues\n",
      "\u001b[0;31mNameError\u001b[0m: name 'm_odd' is not defined"
     ]
    }
   ],
   "source": []
  },
  {
   "cell_type": "code",
   "execution_count": 20,
   "id": "5c382f10-7def-4b92-ac97-d557fc02b788",
   "metadata": {},
   "outputs": [
    {
     "data": {
      "text/plain": [
       "array([0.        , 0.33069396, 0.66138793, 0.99208189, 1.32277585,\n",
       "       1.65346982, 1.98416378, 2.31485774, 2.64555171, 2.97624567,\n",
       "       3.30693964, 3.6376336 , 3.96832756, 4.29902153, 4.62971549,\n",
       "       4.96040945, 5.29110342, 5.62179738, 5.95249134, 6.28318531])"
      ]
     },
     "execution_count": 20,
     "metadata": {},
     "output_type": "execute_result"
    }
   ],
   "source": []
  },
  {
   "cell_type": "code",
   "execution_count": null,
   "id": "ccedee11-41b6-4e3e-a5fa-774ef4bb2a41",
   "metadata": {},
   "outputs": [],
   "source": []
  }
 ],
 "metadata": {
  "kernelspec": {
   "display_name": "Python 3 (ipykernel)",
   "language": "python",
   "name": "python3"
  },
  "language_info": {
   "codemirror_mode": {
    "name": "ipython",
    "version": 3
   },
   "file_extension": ".py",
   "mimetype": "text/x-python",
   "name": "python",
   "nbconvert_exporter": "python",
   "pygments_lexer": "ipython3",
   "version": "3.13.0"
  }
 },
 "nbformat": 4,
 "nbformat_minor": 5
}
