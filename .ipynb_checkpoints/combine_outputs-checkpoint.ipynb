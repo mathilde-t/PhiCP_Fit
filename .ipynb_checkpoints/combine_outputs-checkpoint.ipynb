{
 "cells": [
  {
   "cell_type": "code",
   "execution_count": null,
   "metadata": {
    "vscode": {
     "languageId": "plaintext"
    }
   },
   "outputs": [],
   "source": [
    "import os\n",
    "import glob\n",
    "import pickle\n"
   ]
  },
  {
   "cell_type": "code",
   "execution_count": null,
   "metadata": {
    "vscode": {
     "languageId": "plaintext"
    }
   },
   "outputs": [],
   "source": [
    "# Hauptordner mit den drei Unterordnern\n",
    "main_folder = \"INPUT/fastMTT_W_full_config\"\n",
    "\n",
    "# Liste der Unterordner\n",
    "subfolders = [\n",
    "    \"h_ggf_tautau_uncorrelatedDecay_CPodd_Filtered_ProdAndDecay\",\n",
    "    \"h_ggf_tautau_uncorrelatedDecay_MM_Filtered_ProdAndDecay\",\n",
    "    \"h_ggf_tautau_uncorrelatedDecay_SM_Filtered_ProdAndDecay\"\n",
    "]\n",
    "\n",
    "# Alle Pickle-Dateien in den Unterordnern finden\n",
    "file_lists = {}\n",
    "for subfolder in subfolders:\n",
    "    folder_path = os.path.join(main_folder, subfolder)\n",
    "    for file_path in glob.glob(f\"{folder_path}/*.pickle\"):\n",
    "        file_name = os.path.basename(file_path)\n",
    "        if file_name not in file_lists:\n",
    "            file_lists[file_name] = []\n",
    "        file_lists[file_name].append(file_path)\n",
    "\n",
    "# Kombinierte Daten speichern\n",
    "output_folder = \"OUTPUT/combined_datasets\"\n",
    "os.makedirs(output_folder, exist_ok=True)\n"
   ]
  },
  {
   "cell_type": "markdown",
   "metadata": {},
   "source": [
    "for file_name, paths in file_lists.items():\n",
    "    combined_data = []\n",
    "\n",
    "    for path in paths:\n",
    "        with open(path, 'rb') as f:\n",
    "            data = pickle.load(f)\n",
    "            combined_data.append(data)\n",
    "\n",
    "    # Du kannst hier entscheiden, wie die Daten kombiniert werden sollen\n",
    "    # Beispiel: Falls es Arrays sind, kannst du sie zusammenfügen\n",
    "    # Hier: Einfach alle in einer Liste\n",
    "    combined_data = sum(combined_data, [])  # Liste aller Elemente kombinieren\n",
    "\n",
    "    # Speichern der kombinierten Datei\n",
    "    output_path = os.path.join(output_folder, file_name)\n",
    "    with open(output_path, 'wb') as f:\n",
    "        pickle.dump(combined_data, f)\n",
    "\n",
    "    print(f\"Kombinierte Datei gespeichert: {output_path}\")\n"
   ]
  },
  {
   "cell_type": "code",
   "execution_count": null,
   "metadata": {
    "vscode": {
     "languageId": "plaintext"
    }
   },
   "outputs": [],
   "source": []
  }
 ],
 "metadata": {
  "language_info": {
   "name": "python"
  }
 },
 "nbformat": 4,
 "nbformat_minor": 2
}
