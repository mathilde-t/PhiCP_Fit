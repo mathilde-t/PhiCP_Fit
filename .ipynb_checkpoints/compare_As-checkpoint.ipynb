{
 "cells": [
  {
   "cell_type": "code",
   "execution_count": null,
   "metadata": {},
   "outputs": [],
   "source": [
    "import matplotlib.pyplot as plt\n",
    "import numpy as np\n"
   ]
  },
  {
   "cell_type": "code",
   "execution_count": null,
   "metadata": {},
   "outputs": [],
   "source": [
    "# Vergleich der Asymmetrien und Fehler\n",
    "def compare_asymmetries(data_storage):\n",
    "    # Bereitstellen von Listen für die Vergleiche\n",
    "    categories = list(data_storage.keys())\n",
    "    asymmetry_values = []\n",
    "    asymmetry_errors = []\n",
    "    labels = []\n",
    "    \n",
    "    for cat in categories:\n",
    "        # Checken, ob die Kategorie existiert\n",
    "        if cat not in data_storage:\n",
    "            continue\n",
    "        \n",
    "        tags = list(data_storage[cat][\"tags\"].keys())\n",
    "        \n",
    "        for tag in tags:\n",
    "            # Schleife über die Hypothesen\n",
    "            for hyp, shift_props in shiftdict.items():\n",
    "                if hyp in data_storage[cat][\"tags\"][tag]:\n",
    "                    asymmetry_val = data_storage[cat][\"tags\"][tag][hyp][\"asymmetry_val\"]\n",
    "                    asymmetry_error = data_storage[cat][\"tags\"][tag][hyp][\"asymmetry_error\"]\n",
    "                    \n",
    "                    # Speichern der Werte für den Vergleich\n",
    "                    asymmetry_values.append(asymmetry_val)\n",
    "                    asymmetry_errors.append(asymmetry_error)\n",
    "                    labels.append(f\"{cat} - {tag} - {hyp}\")\n",
    "\n",
    "    # Umwandeln in Numpy Arrays für den Vergleich\n",
    "    asymmetry_values = np.array(asymmetry_values)\n",
    "    asymmetry_errors = np.array(asymmetry_errors)\n",
    "\n",
    "    # Visualisierung der Asymmetrien und Fehler\n",
    "    plt.figure(figsize=(10, 6))\n",
    "    plt.errorbar(labels, asymmetry_values, yerr=asymmetry_errors, fmt='o', label=\"Asymmetry\")\n",
    "    plt.xticks(rotation=90)  # Drehung der x-Achsen-Beschriftungen\n",
    "    plt.ylabel(\"Asymmetry\")\n",
    "    plt.title(\"Comparison of Asymmetries with Errors\")\n",
    "    plt.tight_layout()\n",
    "    plt.show()"
   ]
  },
  {
   "cell_type": "code",
   "execution_count": null,
   "metadata": {},
   "outputs": [],
   "source": [
    "# Vergleich der Asymmetrien in deinen geladenen Pickle-Daten\n",
    "compare_asymmetries(data_storage)"
   ]
  }
 ],
 "metadata": {
  "language_info": {
   "name": "python"
  }
 },
 "nbformat": 4,
 "nbformat_minor": 2
}
